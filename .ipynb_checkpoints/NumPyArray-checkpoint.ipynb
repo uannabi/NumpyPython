{
 "cells": [
  {
   "cell_type": "code",
   "execution_count": 1,
   "metadata": {},
   "outputs": [],
   "source": [
    "import math\n",
    "import collections\n",
    "\n",
    "import numpy as np\n",
    "import pandas as pd\n",
    "import matplotlib.pyplot as pp\n",
    "\n",
    "%matplotlib inline"
   ]
  },
  {
   "cell_type": "code",
   "execution_count": 3,
   "metadata": {},
   "outputs": [
    {
     "data": {
      "text/plain": [
       "3.141592653589793"
      ]
     },
     "execution_count": 3,
     "metadata": {},
     "output_type": "execute_result"
    }
   ],
   "source": [
    "math.pi"
   ]
  },
  {
   "cell_type": "code",
   "execution_count": 4,
   "metadata": {},
   "outputs": [],
   "source": [
    "x = np.linspace(0,5*math.pi,64)"
   ]
  },
  {
   "cell_type": "code",
   "execution_count": 5,
   "metadata": {},
   "outputs": [
    {
     "data": {
      "text/plain": [
       "array([ 0.        ,  0.24933275,  0.4986655 ,  0.74799825,  0.997331  ,\n",
       "        1.24666375,  1.4959965 ,  1.74532925,  1.994662  ,  2.24399475,\n",
       "        2.4933275 ,  2.74266025,  2.991993  ,  3.24132575,  3.4906585 ,\n",
       "        3.73999125,  3.989324  ,  4.23865675,  4.48798951,  4.73732226,\n",
       "        4.98665501,  5.23598776,  5.48532051,  5.73465326,  5.98398601,\n",
       "        6.23331876,  6.48265151,  6.73198426,  6.98131701,  7.23064976,\n",
       "        7.47998251,  7.72931526,  7.97864801,  8.22798076,  8.47731351,\n",
       "        8.72664626,  8.97597901,  9.22531176,  9.47464451,  9.72397726,\n",
       "        9.97331001, 10.22264276, 10.47197551, 10.72130826, 10.97064101,\n",
       "       11.21997376, 11.46930651, 11.71863926, 11.96797201, 12.21730476,\n",
       "       12.46663751, 12.71597026, 12.96530301, 13.21463577, 13.46396852,\n",
       "       13.71330127, 13.96263402, 14.21196677, 14.46129952, 14.71063227,\n",
       "       14.95996502, 15.20929777, 15.45863052, 15.70796327])"
      ]
     },
     "execution_count": 5,
     "metadata": {},
     "output_type": "execute_result"
    }
   ],
   "source": [
    "x"
   ]
  },
  {
   "cell_type": "code",
   "execution_count": 6,
   "metadata": {},
   "outputs": [
    {
     "ename": "TypeError",
     "evalue": "only size-1 arrays can be converted to Python scalars",
     "output_type": "error",
     "traceback": [
      "\u001b[0;31m---------------------------------------------------------------------------\u001b[0m",
      "\u001b[0;31mTypeError\u001b[0m                                 Traceback (most recent call last)",
      "\u001b[0;32m<ipython-input-6-514904a8605d>\u001b[0m in \u001b[0;36m<module>\u001b[0;34m\u001b[0m\n\u001b[0;32m----> 1\u001b[0;31m \u001b[0mmath\u001b[0m\u001b[0;34m.\u001b[0m\u001b[0msin\u001b[0m\u001b[0;34m(\u001b[0m\u001b[0mx\u001b[0m\u001b[0;34m)\u001b[0m\u001b[0;34m\u001b[0m\u001b[0;34m\u001b[0m\u001b[0m\n\u001b[0m",
      "\u001b[0;31mTypeError\u001b[0m: only size-1 arrays can be converted to Python scalars"
     ]
    }
   ],
   "source": [
    "math.sin(x)"
   ]
  },
  {
   "cell_type": "code",
   "execution_count": 7,
   "metadata": {},
   "outputs": [],
   "source": [
    "sinx = np.sin(x)"
   ]
  },
  {
   "cell_type": "code",
   "execution_count": 8,
   "metadata": {},
   "outputs": [
    {
     "data": {
      "text/plain": [
       "array([ 0.00000000e+00,  2.46757398e-01,  4.78253979e-01,  6.80172738e-01,\n",
       "        8.40025923e-01,  9.47927346e-01,  9.97203797e-01,  9.84807753e-01,\n",
       "        9.11505852e-01,  7.81831482e-01,  6.03804410e-01,  3.88434796e-01,\n",
       "        1.49042266e-01, -9.95678466e-02, -3.42020143e-01, -5.63320058e-01,\n",
       "       -7.49781203e-01, -8.89871809e-01, -9.74927912e-01, -9.99689182e-01,\n",
       "       -9.62624247e-01, -8.66025404e-01, -7.15866849e-01, -5.21435203e-01,\n",
       "       -2.94755174e-01, -4.98458857e-02,  1.98146143e-01,  4.33883739e-01,\n",
       "        6.42787610e-01,  8.11938006e-01,  9.30873749e-01,  9.92239207e-01,\n",
       "        9.92239207e-01,  9.30873749e-01,  8.11938006e-01,  6.42787610e-01,\n",
       "        4.33883739e-01,  1.98146143e-01, -4.98458857e-02, -2.94755174e-01,\n",
       "       -5.21435203e-01, -7.15866849e-01, -8.66025404e-01, -9.62624247e-01,\n",
       "       -9.99689182e-01, -9.74927912e-01, -8.89871809e-01, -7.49781203e-01,\n",
       "       -5.63320058e-01, -3.42020143e-01, -9.95678466e-02,  1.49042266e-01,\n",
       "        3.88434796e-01,  6.03804410e-01,  7.81831482e-01,  9.11505852e-01,\n",
       "        9.84807753e-01,  9.97203797e-01,  9.47927346e-01,  8.40025923e-01,\n",
       "        6.80172738e-01,  4.78253979e-01,  2.46757398e-01,  6.12323400e-16])"
      ]
     },
     "execution_count": 8,
     "metadata": {},
     "output_type": "execute_result"
    }
   ],
   "source": [
    "sinx"
   ]
  },
  {
   "cell_type": "code",
   "execution_count": 9,
   "metadata": {},
   "outputs": [
    {
     "data": {
      "text/plain": [
       "[<matplotlib.lines.Line2D at 0x7feccb18d610>]"
      ]
     },
     "execution_count": 9,
     "metadata": {},
     "output_type": "execute_result"
    },
    {
     "data": {
      "image/png": "[encoded data removed]",
      "text/plain": [
       "<Figure size 432x288 with 1 Axes>"
      ]
     },
     "metadata": {
      "needs_background": "light"
     },
     "output_type": "display_data"
    }
   ],
   "source": [
    "pp.plot(x, sinx)"
   ]
  },
  {
   "cell_type": "code",
   "execution_count": null,
   "metadata": {},
   "outputs": [],
   "source": []
  }
 ],
 "metadata": {
  "kernelspec": {
   "display_name": "Python 3",
   "language": "python",
   "name": "python3"
  },
  "language_info": {
   "codemirror_mode": {
    "name": "ipython",
    "version": 3
   },
   "file_extension": ".py",
   "mimetype": "text/x-python",
   "name": "python",
   "nbconvert_exporter": "python",
   "pygments_lexer": "ipython3",
   "version": "3.8.3"
  }
 },
 "nbformat": 4,
 "nbformat_minor": 4
}
